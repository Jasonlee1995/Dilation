{
 "cells": [
  {
   "cell_type": "markdown",
   "metadata": {},
   "source": [
    "# Dilation\n",
    "\n",
    "## 1. Environment Setup\n",
    "### 1.0. Check GPU"
   ]
  },
  {
   "cell_type": "code",
   "execution_count": 1,
   "metadata": {},
   "outputs": [
    {
     "name": "stdout",
     "output_type": "stream",
     "text": [
      "nvcc: NVIDIA (R) Cuda compiler driver\r\n",
      "Copyright (c) 2005-2020 NVIDIA Corporation\r\n",
      "Built on Wed_Jul_22_19:09:09_PDT_2020\r\n",
      "Cuda compilation tools, release 11.0, V11.0.221\r\n",
      "Build cuda_11.0_bu.TC445_37.28845127_0\r\n"
     ]
    }
   ],
   "source": [
    "!nvcc --version"
   ]
  },
  {
   "cell_type": "code",
   "execution_count": null,
   "metadata": {},
   "outputs": [],
   "source": []
  },
  {
   "cell_type": "markdown",
   "metadata": {},
   "source": [
    "### 1.1. Install Pytorch and torchvision"
   ]
  },
  {
   "cell_type": "code",
   "execution_count": 2,
   "metadata": {},
   "outputs": [
    {
     "name": "stdout",
     "output_type": "stream",
     "text": [
      "Looking in links: https://download.pytorch.org/whl/torch_stable.html\n",
      "Requirement already satisfied: torch==1.7.1+cu110 in /usr/local/lib/python3.6/dist-packages (1.7.1+cu110)\n",
      "Requirement already satisfied: torchvision==0.8.2+cu110 in /usr/local/lib/python3.6/dist-packages (0.8.2+cu110)\n",
      "Requirement already satisfied: torchaudio===0.7.2 in /usr/local/lib/python3.6/dist-packages (0.7.2)\n",
      "Requirement already satisfied: numpy in /usr/local/lib/python3.6/dist-packages (from torch==1.7.1+cu110) (1.19.4)\n",
      "Requirement already satisfied: typing-extensions in /usr/local/lib/python3.6/dist-packages (from torch==1.7.1+cu110) (3.7.4.3)\n",
      "Requirement already satisfied: dataclasses; python_version < \"3.7\" in /usr/local/lib/python3.6/dist-packages (from torch==1.7.1+cu110) (0.8)\n",
      "Requirement already satisfied: pillow>=4.1.1 in /usr/local/lib/python3.6/dist-packages (from torchvision==0.8.2+cu110) (8.0.1)\n",
      "\u001b[33mWARNING: You are using pip version 20.2.4; however, version 21.0.1 is available.\n",
      "You should consider upgrading via the '/usr/bin/python3 -m pip install --upgrade pip' command.\u001b[0m\n"
     ]
    }
   ],
   "source": [
    "!pip install torch==1.7.1+cu110 torchvision==0.8.2+cu110 torchaudio===0.7.2 -f https://download.pytorch.org/whl/torch_stable.html"
   ]
  },
  {
   "cell_type": "code",
   "execution_count": null,
   "metadata": {},
   "outputs": [],
   "source": []
  },
  {
   "cell_type": "markdown",
   "metadata": {},
   "source": [
    "### 1.2. Install scipy"
   ]
  },
  {
   "cell_type": "code",
   "execution_count": 3,
   "metadata": {},
   "outputs": [
    {
     "name": "stdout",
     "output_type": "stream",
     "text": [
      "Requirement already satisfied: scipy in /usr/local/lib/python3.6/dist-packages (1.5.4)\n",
      "Requirement already satisfied: numpy>=1.14.5 in /usr/local/lib/python3.6/dist-packages (from scipy) (1.19.4)\n",
      "\u001b[33mWARNING: You are using pip version 20.2.4; however, version 21.0.1 is available.\n",
      "You should consider upgrading via the '/usr/bin/python3 -m pip install --upgrade pip' command.\u001b[0m\n"
     ]
    }
   ],
   "source": [
    "!pip install scipy"
   ]
  },
  {
   "cell_type": "code",
   "execution_count": null,
   "metadata": {},
   "outputs": [],
   "source": []
  },
  {
   "cell_type": "markdown",
   "metadata": {},
   "source": [
    "### 1.3. Import"
   ]
  },
  {
   "cell_type": "code",
   "execution_count": 4,
   "metadata": {},
   "outputs": [],
   "source": [
    "import augmentation, train\n",
    "\n",
    "import torch\n",
    "import torchvision\n",
    "\n",
    "# Ignore Warning\n",
    "import warnings\n",
    "warnings.filterwarnings(action='ignore')"
   ]
  },
  {
   "cell_type": "code",
   "execution_count": null,
   "metadata": {},
   "outputs": [],
   "source": []
  },
  {
   "cell_type": "markdown",
   "metadata": {},
   "source": [
    "## 2. Data Preprocessing"
   ]
  },
  {
   "cell_type": "code",
   "execution_count": 5,
   "metadata": {},
   "outputs": [],
   "source": [
    "train_batch_size = 14\n",
    "test_batch_size = 1"
   ]
  },
  {
   "cell_type": "code",
   "execution_count": 6,
   "metadata": {},
   "outputs": [],
   "source": [
    "train_tf = augmentation.Mask_Aug(transforms=[augmentation.ToTensor(), augmentation.PILToTensor(), \n",
    "                                             augmentation.RandomResizedCrop((300, 300), scale=(1., 1.), ratio=(0.5, 1.5)), \n",
    "                                             augmentation.RandomHorizontalFlip(),\n",
    "                                             augmentation.Normalize(mean=[0.485, 0.456, 0.406], std=[0.229, 0.224, 0.225])])\n",
    "\n",
    "val_tf = augmentation.Mask_Aug(transforms=[augmentation.ToTensor(), augmentation.PILToTensor(), \n",
    "                                           augmentation.Resize(300),\n",
    "                                           augmentation.Normalize(mean=[0.485, 0.456, 0.406], std=[0.229, 0.224, 0.225])])\n",
    "\n",
    "train_dataset = torchvision.datasets.SBDataset(root='./', image_set='train_noval', mode='segmentation', download=False, transforms=train_tf)\n",
    "train_loader = torch.utils.data.DataLoader(train_dataset, batch_size=train_batch_size, shuffle=True, num_workers=4, pin_memory=True)\n",
    "\n",
    "val_dataset = torchvision.datasets.VOCSegmentation(root='./', year='2012', image_set='val', download=False, transforms=val_tf)\n",
    "val_loader = torch.utils.data.DataLoader(val_dataset, batch_size=test_batch_size, shuffle=False, num_workers=4, pin_memory=True)"
   ]
  },
  {
   "cell_type": "code",
   "execution_count": null,
   "metadata": {},
   "outputs": [],
   "source": []
  },
  {
   "cell_type": "markdown",
   "metadata": {},
   "source": [
    "## 3. Train Model"
   ]
  },
  {
   "cell_type": "code",
   "execution_count": 7,
   "metadata": {},
   "outputs": [],
   "source": [
    "mode = 'front-only'\n",
    "num_classes = 21\n",
    "ignore_index = 255\n",
    "\n",
    "gpu_id = 6\n",
    "print_freq = 100\n",
    "epoch_print = 15\n",
    "\n",
    "save = False\n",
    "epochs = 150\n",
    "\n",
    "lr = 0.001\n",
    "momentum = 0.9\n",
    "weight_decay = 0.0005"
   ]
  },
  {
   "cell_type": "code",
   "execution_count": 8,
   "metadata": {
    "scrolled": true
   },
   "outputs": [],
   "source": [
    "Dilation = train.Dilation(mode=mode, num_classes=num_classes, ignore_index=ignore_index, gpu_id=gpu_id, \n",
    "                          print_freq=print_freq, epoch_print=epoch_print)"
   ]
  },
  {
   "cell_type": "code",
   "execution_count": 9,
   "metadata": {},
   "outputs": [
    {
     "name": "stdout",
     "output_type": "stream",
     "text": [
      "Epoch 1 Started...\n",
      "\n",
      "*********************************** Best mIoU Updated ***********************************\n",
      "Iteration : 100 - Train Loss : 1.070887, Test Loss : 0.891098, Test mIoU : 16.7901\n",
      "\n",
      "\n",
      "*********************************** Best mIoU Updated ***********************************\n",
      "Iteration : 200 - Train Loss : 0.687537, Test Loss : 0.655521, Test mIoU : 36.4418\n",
      "\n",
      "\n",
      "*********************************** Best mIoU Updated ***********************************\n",
      "Iteration : 300 - Train Loss : 0.651831, Test Loss : 0.520016, Test mIoU : 42.2186\n",
      "\n",
      "\n",
      "*********************************** Best mIoU Updated ***********************************\n",
      "Iteration : 400 - Train Loss : 0.598414, Test Loss : 0.524067, Test mIoU : 46.0696\n",
      "\n",
      "Epoch 16 Started...\n",
      "\n",
      "*********************************** Best mIoU Updated ***********************************\n",
      "Iteration : 100 - Train Loss : 0.226229, Test Loss : 0.332601, Test mIoU : 59.4727\n",
      "\n",
      "\n",
      "*********************************** Best mIoU Updated ***********************************\n",
      "Iteration : 200 - Train Loss : 0.290944, Test Loss : 0.325475, Test mIoU : 59.7264\n",
      "\n",
      "\n",
      "*********************************** Best mIoU Updated ***********************************\n",
      "Iteration : 300 - Train Loss : 0.248042, Test Loss : 0.322587, Test mIoU : 59.9938\n",
      "\n",
      "Iteration : 400 - Train Loss : 0.242682, Test Loss : 0.316833, Test mIoU : 59.8604\n",
      "Epoch 31 Started...\n",
      "\n",
      "*********************************** Best mIoU Updated ***********************************\n",
      "Iteration : 100 - Train Loss : 0.175115, Test Loss : 0.331165, Test mIoU : 61.3673\n",
      "\n",
      "Iteration : 200 - Train Loss : 0.120985, Test Loss : 0.327462, Test mIoU : 60.8867\n",
      "\n",
      "*********************************** Best mIoU Updated ***********************************\n",
      "Iteration : 300 - Train Loss : 0.226705, Test Loss : 0.326575, Test mIoU : 62.0472\n",
      "\n",
      "Iteration : 400 - Train Loss : 0.207972, Test Loss : 0.339405, Test mIoU : 61.0738\n",
      "Epoch 46 Started...\n",
      "Iteration : 100 - Train Loss : 0.136789, Test Loss : 0.341095, Test mIoU : 61.8369\n",
      "Iteration : 200 - Train Loss : 0.145600, Test Loss : 0.344421, Test mIoU : 61.6527\n",
      "Iteration : 300 - Train Loss : 0.128959, Test Loss : 0.345344, Test mIoU : 61.4527\n",
      "Iteration : 400 - Train Loss : 0.164444, Test Loss : 0.351210, Test mIoU : 61.4166\n",
      "Epoch 61 Started...\n",
      "Iteration : 100 - Train Loss : 0.129525, Test Loss : 0.364040, Test mIoU : 61.6415\n",
      "Iteration : 200 - Train Loss : 0.086556, Test Loss : 0.369687, Test mIoU : 61.3285\n",
      "\n",
      "*********************************** Best mIoU Updated ***********************************\n",
      "Iteration : 300 - Train Loss : 0.093784, Test Loss : 0.354294, Test mIoU : 62.1022\n",
      "\n",
      "Iteration : 400 - Train Loss : 0.085651, Test Loss : 0.361198, Test mIoU : 61.7250\n",
      "Epoch 76 Started...\n",
      "Iteration : 100 - Train Loss : 0.103930, Test Loss : 0.382075, Test mIoU : 60.9048\n",
      "Iteration : 200 - Train Loss : 0.120497, Test Loss : 0.369129, Test mIoU : 61.8332\n",
      "Iteration : 300 - Train Loss : 0.092055, Test Loss : 0.374225, Test mIoU : 61.4429\n",
      "Iteration : 400 - Train Loss : 0.088395, Test Loss : 0.373455, Test mIoU : 61.1550\n",
      "Epoch 91 Started...\n",
      "Iteration : 100 - Train Loss : 0.145462, Test Loss : 0.397682, Test mIoU : 60.7283\n",
      "Iteration : 200 - Train Loss : 0.110145, Test Loss : 0.416031, Test mIoU : 61.0010\n",
      "Iteration : 300 - Train Loss : 0.156965, Test Loss : 0.388366, Test mIoU : 61.2698\n",
      "Iteration : 400 - Train Loss : 0.111008, Test Loss : 0.386337, Test mIoU : 61.1223\n",
      "Epoch 106 Started...\n",
      "Iteration : 100 - Train Loss : 0.146748, Test Loss : 0.407383, Test mIoU : 60.8682\n",
      "Iteration : 200 - Train Loss : 0.108210, Test Loss : 0.404907, Test mIoU : 60.5601\n",
      "Iteration : 300 - Train Loss : 0.085613, Test Loss : 0.396248, Test mIoU : 60.8613\n",
      "Iteration : 400 - Train Loss : 0.129202, Test Loss : 0.401706, Test mIoU : 61.1397\n",
      "Epoch 121 Started...\n",
      "Iteration : 100 - Train Loss : 0.117019, Test Loss : 0.443335, Test mIoU : 60.1386\n",
      "Iteration : 200 - Train Loss : 0.086748, Test Loss : 0.406709, Test mIoU : 60.6354\n",
      "Iteration : 300 - Train Loss : 0.126774, Test Loss : 0.419355, Test mIoU : 60.3051\n",
      "Iteration : 400 - Train Loss : 0.080005, Test Loss : 0.407572, Test mIoU : 61.2665\n",
      "Epoch 136 Started...\n",
      "Iteration : 100 - Train Loss : 0.077591, Test Loss : 0.427889, Test mIoU : 60.8450\n",
      "Iteration : 200 - Train Loss : 0.076570, Test Loss : 0.421463, Test mIoU : 60.1129\n",
      "Iteration : 300 - Train Loss : 0.080608, Test Loss : 0.427766, Test mIoU : 60.8435\n",
      "Iteration : 400 - Train Loss : 0.075794, Test Loss : 0.430484, Test mIoU : 60.3623\n"
     ]
    }
   ],
   "source": [
    "Dilation.train(train_loader, val_loader, save=save, epochs=epochs, lr=lr, momentum=momentum, weight_decay=weight_decay)"
   ]
  }
 ],
 "metadata": {
  "kernelspec": {
   "display_name": "Python 3",
   "language": "python",
   "name": "python3"
  },
  "language_info": {
   "codemirror_mode": {
    "name": "ipython",
    "version": 3
   },
   "file_extension": ".py",
   "mimetype": "text/x-python",
   "name": "python",
   "nbconvert_exporter": "python",
   "pygments_lexer": "ipython3",
   "version": "3.6.9"
  }
 },
 "nbformat": 4,
 "nbformat_minor": 4
}
